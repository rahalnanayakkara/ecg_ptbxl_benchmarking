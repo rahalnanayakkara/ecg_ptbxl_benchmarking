{
 "cells": [
  {
   "cell_type": "code",
   "execution_count": 1,
   "metadata": {},
   "outputs": [
    {
     "name": "stderr",
     "output_type": "stream",
     "text": [
      "c:\\Users\\Rahal\\.conda\\envs\\ecg_ptbxl\\lib\\site-packages\\tqdm\\auto.py:21: TqdmWarning: IProgress not found. Please update jupyter and ipywidgets. See https://ipywidgets.readthedocs.io/en/stable/user_install.html\n",
      "  from .autonotebook import tqdm as notebook_tqdm\n"
     ]
    }
   ],
   "source": [
    "import torch\n",
    "import torch.nn as nn\n",
    "import torch.nn.functional as F\n",
    "import math\n",
    "\n",
    "from fastai.layers import *\n",
    "from fastai.core import *\n",
    "\n",
    "from models.basic_conv1d import AdaptiveConcatPool1d,create_head1d"
   ]
  },
  {
   "cell_type": "markdown",
   "metadata": {},
   "source": [
    "Inception time inspired by https://github.com/hfawaz/InceptionTime/blob/master/classifiers/inception.py and https://github.com/tcapelle/TimeSeries_fastai/blob/master/inception.py"
   ]
  },
  {
   "cell_type": "code",
   "execution_count": 2,
   "metadata": {},
   "outputs": [],
   "source": [
    "def conv(in_planes, out_planes, kernel_size=3, stride=1):\n",
    "    \"convolution with padding\"\n",
    "    return nn.Conv1d(in_planes, out_planes, kernel_size=kernel_size, stride=stride,\n",
    "                     padding=(kernel_size-1)//2, bias=False)\n",
    "\n",
    "def noop(x): return x\n",
    "\n",
    "class InceptionBlock1d(nn.Module):\n",
    "    def __init__(self, ni, nb_filters, kss, stride=1, act='linear', bottleneck_size=32):\n",
    "        super().__init__()\n",
    "        self.bottleneck = conv(ni, bottleneck_size, 1, stride) if (bottleneck_size>0) else noop\n",
    "\n",
    "        self.convs = nn.ModuleList([conv(bottleneck_size if (bottleneck_size>0) else ni, nb_filters, ks) for ks in kss])\n",
    "        self.conv_bottle = nn.Sequential(nn.MaxPool1d(3, stride, padding=1), conv(ni, nb_filters, 1))\n",
    "        self.bn_relu = nn.Sequential(nn.BatchNorm1d((len(kss)+1)*nb_filters), nn.ReLU())\n",
    "\n",
    "    def forward(self, x):\n",
    "        #print(\"block in\",x.size())\n",
    "        bottled = self.bottleneck(x)\n",
    "        out = self.bn_relu(torch.cat([c(bottled) for c in self.convs]+[self.conv_bottle(x)], dim=1))\n",
    "        return out\n",
    "\n",
    "class Shortcut1d(nn.Module):\n",
    "    def __init__(self, ni, nf):\n",
    "        super().__init__()\n",
    "        self.act_fn=nn.ReLU(True)\n",
    "        self.conv=conv(ni, nf, 1)\n",
    "        self.bn=nn.BatchNorm1d(nf)\n",
    "\n",
    "    def forward(self, inp, out): \n",
    "        #print(\"sk\",out.size(), inp.size(), self.conv(inp).size(), self.bn(self.conv(inp)).size)\n",
    "        #input()\n",
    "        return self.act_fn(out + self.bn(self.conv(inp)))\n",
    "        \n",
    "class InceptionBackbone(nn.Module):\n",
    "    def __init__(self, input_channels, kss, depth, bottleneck_size, nb_filters, use_residual):\n",
    "        super().__init__()\n",
    "\n",
    "        self.depth = depth\n",
    "        assert((depth % 3) == 0)\n",
    "        self.use_residual = use_residual\n",
    "\n",
    "        n_ks = len(kss) + 1\n",
    "        self.im = nn.ModuleList([InceptionBlock1d(input_channels if d==0 else n_ks*nb_filters,nb_filters=nb_filters,kss=kss, bottleneck_size=bottleneck_size) for d in range(depth)])\n",
    "        self.sk = nn.ModuleList([Shortcut1d(input_channels if d==0 else n_ks*nb_filters, n_ks*nb_filters) for d in range(depth//3)])    \n",
    "        \n",
    "    def forward(self, x):\n",
    "        \n",
    "        input_res = x\n",
    "        for d in range(self.depth):\n",
    "            x = self.im[d](x)\n",
    "            if self.use_residual and d % 3 == 2:\n",
    "                x = (self.sk[d//3])(input_res, x)\n",
    "                input_res = x.clone()\n",
    "        return x\n",
    "\n",
    "class Inception1d(nn.Module):\n",
    "    '''inception time architecture'''\n",
    "    def __init__(self, num_classes=2, input_channels=8, kernel_size=40, depth=6, bottleneck_size=32, nb_filters=32, use_residual=True,lin_ftrs_head=None, ps_head=0.5, bn_final_head=False, bn_head=True, act_head=\"relu\", concat_pooling=True):\n",
    "        super().__init__()\n",
    "        assert(kernel_size>=40)\n",
    "        kernel_size = [k-1 if k%2==0 else k for k in [kernel_size,kernel_size//2,kernel_size//4]] #was 39,19,9\n",
    "        \n",
    "        layers = [InceptionBackbone(input_channels=input_channels, kss=kernel_size, depth=depth, bottleneck_size=bottleneck_size, nb_filters=nb_filters, use_residual=use_residual)]\n",
    "       \n",
    "        n_ks = len(kernel_size) + 1\n",
    "        #head\n",
    "        head = create_head1d(n_ks*nb_filters, nc=num_classes, lin_ftrs=lin_ftrs_head, ps=ps_head, bn_final=bn_final_head, bn=bn_head, act=act_head, concat_pooling=concat_pooling)\n",
    "        layers.append(head)\n",
    "        #layers.append(AdaptiveConcatPool1d())\n",
    "        #layers.append(Flatten())\n",
    "        #layers.append(nn.Linear(2*n_ks*nb_filters, num_classes))\n",
    "        self.layers = nn.Sequential(*layers)\n",
    "\n",
    "    def forward(self,x):\n",
    "        return self.layers(x)\n",
    "    \n",
    "    def get_layer_groups(self):\n",
    "        depth = self.layers[0].depth\n",
    "        if(depth>3):\n",
    "            return ((self.layers[0].im[3:],self.layers[0].sk[1:]),self.layers[-1])\n",
    "        else:\n",
    "            return (self.layers[-1])\n",
    "    \n",
    "    def get_output_layer(self):\n",
    "        return self.layers[-1][-1]\n",
    "    \n",
    "    def set_output_layer(self,x):\n",
    "        self.layers[-1][-1] = x\n",
    "    \n",
    "def inception1d(**kwargs):\n",
    "    \"\"\"Constructs an Inception model\n",
    "    \"\"\"\n",
    "    return Inception1d(**kwargs)\n"
   ]
  },
  {
   "cell_type": "code",
   "execution_count": 31,
   "metadata": {},
   "outputs": [
    {
     "name": "stdout",
     "output_type": "stream",
     "text": [
      "Input shape :  torch.Size([10, 12, 256])\n",
      "Output shape :  torch.Size([10, 4])\n"
     ]
    }
   ],
   "source": [
    "n_classes = 4\n",
    "n_channels = 12\n",
    "batch_size = 10\n",
    "\n",
    "inception1d_model = Inception1d(num_classes=n_classes, input_channels=n_channels)\n",
    "\n",
    "test_input = torch.Tensor(batch_size, n_channels, 256)\n",
    "\n",
    "test_output = inception1d_model(test_input)\n",
    "\n",
    "print(\"Input shape : \", test_input.shape)\n",
    "print(\"Output shape : \", test_output.shape)"
   ]
  },
  {
   "cell_type": "markdown",
   "metadata": {},
   "source": [
    "# Load Data"
   ]
  },
  {
   "cell_type": "code",
   "execution_count": 46,
   "metadata": {},
   "outputs": [],
   "source": [
    "X_train = np.load('dataset/Train/X_train.npy')\n",
    "y_train = np.load('dataset/Train/y_train.npy')\n",
    "X_test = np.load('dataset/Test/X_test.npy')\n",
    "y_test = np.load('dataset/Test/y_test.npy')"
   ]
  },
  {
   "cell_type": "code",
   "execution_count": 47,
   "metadata": {},
   "outputs": [
    {
     "name": "stdout",
     "output_type": "stream",
     "text": [
      "(3352, 12, 256) (838, 12, 256) (3352,) (838,)\n"
     ]
    }
   ],
   "source": [
    "print(X_train.shape, X_test.shape, y_train.shape, y_test.shape)"
   ]
  },
  {
   "cell_type": "markdown",
   "metadata": {},
   "source": [
    "## Convert to Tensors"
   ]
  },
  {
   "cell_type": "code",
   "execution_count": 34,
   "metadata": {},
   "outputs": [],
   "source": [
    "from torch.utils.data import TensorDataset, DataLoader, Dataset\n",
    "import torch\n",
    "import torch.nn as nn\n",
    "import torchvision\n",
    "import torch.nn.functional as F\n",
    "from torch.autograd import Variable"
   ]
  },
  {
   "cell_type": "code",
   "execution_count": 35,
   "metadata": {},
   "outputs": [
    {
     "data": {
      "text/plain": [
       "device(type='cpu')"
      ]
     },
     "execution_count": 35,
     "metadata": {},
     "output_type": "execute_result"
    }
   ],
   "source": [
    "device = torch.device('cuda' if torch.cuda.is_available() else 'cpu')\n",
    "device"
   ]
  },
  {
   "cell_type": "code",
   "execution_count": 36,
   "metadata": {},
   "outputs": [],
   "source": [
    "class Data(Dataset):\n",
    "    def __init__(self, X, y):\n",
    "        self.X = torch.from_numpy(X.astype(np.float32))\n",
    "        self.y = torch.from_numpy(y.astype(np.longlong))\n",
    "        self.len = self.X.shape[0]\n",
    "\n",
    "    def __getitem__(self, index):\n",
    "        return self.X[index], self.y[index]\n",
    "\n",
    "    def __len__(self):\n",
    "        return self.len"
   ]
  },
  {
   "cell_type": "code",
   "execution_count": 38,
   "metadata": {},
   "outputs": [
    {
     "name": "stdout",
     "output_type": "stream",
     "text": [
      "The number of signals in a training set is:  3360\n",
      "The number of signals in a test set is:  840\n",
      "The number of batches per epoch is:  336\n"
     ]
    }
   ],
   "source": [
    "batch_size = 10\n",
    "number_of_classes = 4\n",
    "\n",
    "# Instantiate training and test data\n",
    "train_data = Data(X_train, y_train)\n",
    "train_loader = DataLoader(train_data, batch_size=batch_size, shuffle=True, num_workers=0)\n",
    "print(\"The number of signals in a training set is: \", len(train_loader)*batch_size)\n",
    "\n",
    "test_data = Data(X_test, y_test)\n",
    "test_loader = DataLoader(test_data, batch_size=batch_size, shuffle=False, num_workers=0)\n",
    "print(\"The number of signals in a test set is: \", len(test_loader)*batch_size)\n",
    "\n",
    "print(\"The number of batches per epoch is: \", len(train_loader))"
   ]
  },
  {
   "cell_type": "markdown",
   "metadata": {},
   "source": [
    "# Training"
   ]
  },
  {
   "cell_type": "code",
   "execution_count": 41,
   "metadata": {},
   "outputs": [],
   "source": [
    "from torch.optim import Adam\n",
    "\n",
    "model = inception1d_model\n",
    "loss_fn = nn.CrossEntropyLoss()\n",
    "optimizer = Adam(model.parameters(), lr=0.001, weight_decay=0.0001)"
   ]
  },
  {
   "cell_type": "markdown",
   "metadata": {},
   "source": [
    "## Utility Functions"
   ]
  },
  {
   "cell_type": "code",
   "execution_count": 42,
   "metadata": {},
   "outputs": [],
   "source": [
    "def saveModel(model):\n",
    "    path = \"inception1d_model.pth\"\n",
    "    torch.save(model.state_dict(), path)\n",
    "\n",
    "def testAccuracy():\n",
    "    model.eval()\n",
    "    accuracy = 0.0\n",
    "    total = 0.0\n",
    "    with torch.no_grad():\n",
    "        for data in test_loader:\n",
    "            spectro, labels = data\n",
    "            spectro = spectro.to(device)\n",
    "            labels = labels.to(device)\n",
    "            outputs = model(spectro)\n",
    "            # the label with the highest energy will be our prediction\n",
    "            _, predicted = torch.max(outputs.data, 1)\n",
    "            total += labels.size(0)\n",
    "            accuracy += (predicted == labels).sum().item()\n",
    "\n",
    "    # compute the accuracy over all test images\n",
    "    accuracy = (100 * accuracy / total)\n",
    "    return(accuracy)"
   ]
  },
  {
   "cell_type": "markdown",
   "metadata": {},
   "source": [
    "## Training Function"
   ]
  },
  {
   "cell_type": "code",
   "execution_count": 43,
   "metadata": {},
   "outputs": [],
   "source": [
    "# Training function. We simply have to loop over our data iterator and feed the inputs to the network and optimize.\n",
    "def train(num_epochs):\n",
    "\n",
    "    best_accuracy = 0.0\n",
    "\n",
    "    # Print your execution device\n",
    "    print(\"The model will be running on\", device, \"device\")\n",
    "\n",
    "    # Convert model parameters and buffers to CPU or mps\n",
    "    model.to(device)\n",
    "\n",
    "    for epoch in range(num_epochs):\n",
    "        running_loss = 0.0\n",
    "        running_acc = 0.0\n",
    "\n",
    "        for i, (spectro, labels) in enumerate(train_loader, 0):\n",
    "            spectro = Variable(spectro.to(device))\n",
    "            labels = Variable(labels.to(device))\n",
    "\n",
    "            # zero the parameter gradients\n",
    "            optimizer.zero_grad()\n",
    "\n",
    "            # predict classes using spectrograms from the training set\n",
    "            outputs = model(spectro)\n",
    "            # compute the loss based on model output and real labels\n",
    "            loss = loss_fn(outputs, labels)\n",
    "\n",
    "            # backpropagate the loss\n",
    "            loss.backward()\n",
    "\n",
    "            # adjust parameters based on the calculated gradients\n",
    "            optimizer.step()\n",
    "\n",
    "            # Print statistics for every 100 spectrograms\n",
    "            running_loss += loss.item()     # extract the loss value\n",
    "            if i % 100 == 99:\n",
    "                print('[%d, %5d] loss: %.3f' %(epoch + 1, i + 1, running_loss / 100))\n",
    "\n",
    "                # zero the loss\n",
    "                running_loss = 0.0\n",
    "\n",
    "        accuracy = testAccuracy()\n",
    "        print('For epoch', epoch+1,'the test accuracy over the whole test set is %d %%' % (accuracy))\n",
    "\n",
    "        # Save the model if the accuracy is the best\n",
    "        if accuracy >= best_accuracy:\n",
    "            saveModel(model)\n",
    "            best_accuracy = accuracy"
   ]
  },
  {
   "cell_type": "markdown",
   "metadata": {},
   "source": [
    "## Testing Functions"
   ]
  },
  {
   "cell_type": "code",
   "execution_count": 44,
   "metadata": {},
   "outputs": [],
   "source": [
    "import matplotlib.pyplot as plt\n",
    "import numpy as np\n",
    "\n",
    "def imageshow(img):\n",
    "    img = img / 2 + 0.5     # unnormalize\n",
    "    npimg = img.numpy()\n",
    "    plt.imshow(np.transpose(npimg, (1, 2, 0)))\n",
    "    plt.show()\n",
    "\n",
    "\n",
    "def testBatch():\n",
    "    spectro, labels = next(iter(test_loader))\n",
    "\n",
    "    imageshow(torchvision.utils.make_grid(spectro))\n",
    "\n",
    "    # Show the real labels on the screen\n",
    "    print('Real labels: ', ' '.join('%5s' % labels[j] for j in range(batch_size)))\n",
    "\n",
    "    outputs = model(spectro)\n",
    "\n",
    "    _, predicted = torch.max(outputs, 1)\n",
    "\n",
    "    print('Predicted: ', ' '.join('%5s' % predicted[j] for j in range(batch_size)))"
   ]
  },
  {
   "cell_type": "markdown",
   "metadata": {},
   "source": [
    "## Training Loop"
   ]
  },
  {
   "cell_type": "code",
   "execution_count": 45,
   "metadata": {},
   "outputs": [
    {
     "name": "stdout",
     "output_type": "stream",
     "text": [
      "The model will be running on cpu device\n",
      "[1,   100] loss: 1.407\n",
      "[1,   200] loss: 1.242\n",
      "[1,   300] loss: 1.194\n",
      "For epoch 1 the test accuracy over the whole test set is 38 %\n",
      "[2,   100] loss: 1.251\n"
     ]
    },
    {
     "ename": "KeyboardInterrupt",
     "evalue": "",
     "output_type": "error",
     "traceback": [
      "\u001b[1;31m---------------------------------------------------------------------------\u001b[0m",
      "\u001b[1;31mKeyboardInterrupt\u001b[0m                         Traceback (most recent call last)",
      "Cell \u001b[1;32mIn[45], line 1\u001b[0m\n\u001b[1;32m----> 1\u001b[0m train(\u001b[39m50\u001b[39;49m)\n\u001b[0;32m      2\u001b[0m \u001b[39mprint\u001b[39m(\u001b[39m'\u001b[39m\u001b[39mFinished Training\u001b[39m\u001b[39m'\u001b[39m)\n\u001b[0;32m      4\u001b[0m \u001b[39m# testModelAccuracy()\u001b[39;00m\n",
      "Cell \u001b[1;32mIn[43], line 29\u001b[0m, in \u001b[0;36mtrain\u001b[1;34m(num_epochs)\u001b[0m\n\u001b[0;32m     26\u001b[0m loss \u001b[39m=\u001b[39m loss_fn(outputs, labels)\n\u001b[0;32m     28\u001b[0m \u001b[39m# backpropagate the loss\u001b[39;00m\n\u001b[1;32m---> 29\u001b[0m loss\u001b[39m.\u001b[39;49mbackward()\n\u001b[0;32m     31\u001b[0m \u001b[39m# adjust parameters based on the calculated gradients\u001b[39;00m\n\u001b[0;32m     32\u001b[0m optimizer\u001b[39m.\u001b[39mstep()\n",
      "File \u001b[1;32mc:\\Users\\Rahal\\.conda\\envs\\ecg_ptbxl\\lib\\site-packages\\torch\\_tensor.py:488\u001b[0m, in \u001b[0;36mTensor.backward\u001b[1;34m(self, gradient, retain_graph, create_graph, inputs)\u001b[0m\n\u001b[0;32m    478\u001b[0m \u001b[39mif\u001b[39;00m has_torch_function_unary(\u001b[39mself\u001b[39m):\n\u001b[0;32m    479\u001b[0m     \u001b[39mreturn\u001b[39;00m handle_torch_function(\n\u001b[0;32m    480\u001b[0m         Tensor\u001b[39m.\u001b[39mbackward,\n\u001b[0;32m    481\u001b[0m         (\u001b[39mself\u001b[39m,),\n\u001b[1;32m   (...)\u001b[0m\n\u001b[0;32m    486\u001b[0m         inputs\u001b[39m=\u001b[39minputs,\n\u001b[0;32m    487\u001b[0m     )\n\u001b[1;32m--> 488\u001b[0m torch\u001b[39m.\u001b[39;49mautograd\u001b[39m.\u001b[39;49mbackward(\n\u001b[0;32m    489\u001b[0m     \u001b[39mself\u001b[39;49m, gradient, retain_graph, create_graph, inputs\u001b[39m=\u001b[39;49minputs\n\u001b[0;32m    490\u001b[0m )\n",
      "File \u001b[1;32mc:\\Users\\Rahal\\.conda\\envs\\ecg_ptbxl\\lib\\site-packages\\torch\\autograd\\__init__.py:197\u001b[0m, in \u001b[0;36mbackward\u001b[1;34m(tensors, grad_tensors, retain_graph, create_graph, grad_variables, inputs)\u001b[0m\n\u001b[0;32m    192\u001b[0m     retain_graph \u001b[39m=\u001b[39m create_graph\n\u001b[0;32m    194\u001b[0m \u001b[39m# The reason we repeat same the comment below is that\u001b[39;00m\n\u001b[0;32m    195\u001b[0m \u001b[39m# some Python versions print out the first line of a multi-line function\u001b[39;00m\n\u001b[0;32m    196\u001b[0m \u001b[39m# calls in the traceback and some print out the last line\u001b[39;00m\n\u001b[1;32m--> 197\u001b[0m Variable\u001b[39m.\u001b[39;49m_execution_engine\u001b[39m.\u001b[39;49mrun_backward(  \u001b[39m# Calls into the C++ engine to run the backward pass\u001b[39;49;00m\n\u001b[0;32m    198\u001b[0m     tensors, grad_tensors_, retain_graph, create_graph, inputs,\n\u001b[0;32m    199\u001b[0m     allow_unreachable\u001b[39m=\u001b[39;49m\u001b[39mTrue\u001b[39;49;00m, accumulate_grad\u001b[39m=\u001b[39;49m\u001b[39mTrue\u001b[39;49;00m)\n",
      "\u001b[1;31mKeyboardInterrupt\u001b[0m: "
     ]
    }
   ],
   "source": [
    "train(50)\n",
    "print('Finished Training')\n",
    "\n",
    "# testModelAccuracy()"
   ]
  },
  {
   "cell_type": "code",
   "execution_count": null,
   "metadata": {},
   "outputs": [],
   "source": []
  }
 ],
 "metadata": {
  "kernelspec": {
   "display_name": "ecg_ptbxl",
   "language": "python",
   "name": "python3"
  },
  "language_info": {
   "codemirror_mode": {
    "name": "ipython",
    "version": 3
   },
   "file_extension": ".py",
   "mimetype": "text/x-python",
   "name": "python",
   "nbconvert_exporter": "python",
   "pygments_lexer": "ipython3",
   "version": "3.9.17"
  },
  "orig_nbformat": 4
 },
 "nbformat": 4,
 "nbformat_minor": 2
}
