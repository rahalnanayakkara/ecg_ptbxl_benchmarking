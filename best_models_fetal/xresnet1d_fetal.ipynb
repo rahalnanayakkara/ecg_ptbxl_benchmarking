[1,   100] loss: 1.796
[1,   200] loss: 1.610
[1,   300] loss: 1.426
For epoch 1 the test accuracy over the whole test set is 54 %
[2,   100] loss: 1.172
[2,   200] loss: 1.014
[2,   300] loss: 0.901
For epoch 2 the test accuracy over the whole test set is 61 %
[3,   100] loss: 0.828
[3,   200] loss: 0.734
[3,   300] loss: 0.774
For epoch 3 the test accuracy over the whole test set is 67 %
[4,   100] loss: 0.624
[4,   200] loss: 0.639
[4,   300] loss: 0.623
For epoch 4 the test accuracy over the whole test set is 70 %
[5,   100] loss: 0.509
[5,   200] loss: 0.542
[5,   300] loss: 0.533
For epoch 5 the test accuracy over the whole test set is 75 %
[6,   100] loss: 0.432
[6,   200] loss: 0.477
[6,   300] loss: 0.443
For epoch 6 the test accuracy over the whole test set is 74 %
[7,   100] loss: 0.360
[7,   200] loss: 0.358
[7,   300] loss: 0.366
For epoch 7 the test accuracy over the whole test set is 76 %
[8,   100] loss: 0.319
[8,   200] loss: 0.299
[8,   300] loss: 0.289
For epoch 8 the test accuracy over the whole test set is 80 %
[9,   100] loss: 0.266
[9,   200] loss: 0.258
[9,   300] loss: 0.218
For epoch 9 the test accuracy over the whole test set is 85 %
[10,   100] loss: 0.263
[10,   200] loss: 0.228
[10,   300] loss: 0.257
For epoch 10 the test accuracy over the whole test set is 84 %
[11,   100] loss: 0.172
[11,   200] loss: 0.167
[11,   300] loss: 0.312
For epoch 11 the test accuracy over the whole test set is 85 %
[12,   100] loss: 0.142
[12,   200] loss: 0.131
[12,   300] loss: 0.172
For epoch 12 the test accuracy over the whole test set is 86 %
[13,   100] loss: 0.075
[13,   200] loss: 0.140
[13,   300] loss: 0.126
For epoch 13 the test accuracy over the whole test set is 87 %
[14,   100] loss: 0.145
[14,   200] loss: 0.270
[14,   300] loss: 0.227
For epoch 14 the test accuracy over the whole test set is 87 %
[15,   100] loss: 0.122
[15,   200] loss: 0.134
[15,   300] loss: 0.155
For epoch 15 the test accuracy over the whole test set is 86 %
[16,   100] loss: 0.082
[16,   200] loss: 0.063
[16,   300] loss: 0.047
For epoch 16 the test accuracy over the whole test set is 85 %
[17,   100] loss: 0.045
[17,   200] loss: 0.045
[17,   300] loss: 0.043
For epoch 17 the test accuracy over the whole test set is 89 %
[18,   100] loss: 0.052
[18,   200] loss: 0.053
[18,   300] loss: 0.169
For epoch 18 the test accuracy over the whole test set is 86 %
[19,   100] loss: 0.139
[19,   200] loss: 0.162
[19,   300] loss: 0.217
For epoch 19 the test accuracy over the whole test set is 87 %
[20,   100] loss: 0.091
[20,   200] loss: 0.080
[20,   300] loss: 0.080
For epoch 20 the test accuracy over the whole test set is 88 %
[21,   100] loss: 0.056
[21,   200] loss: 0.050
[21,   300] loss: 0.025
For epoch 21 the test accuracy over the whole test set is 86 %
[22,   100] loss: 0.090
[22,   200] loss: 0.166
[22,   300] loss: 0.210
For epoch 22 the test accuracy over the whole test set is 88 %
[23,   100] loss: 0.044
[23,   200] loss: 0.069
[23,   300] loss: 0.106
For epoch 23 the test accuracy over the whole test set is 88 %
[24,   100] loss: 0.031
[24,   200] loss: 0.029
[24,   300] loss: 0.053
For epoch 24 the test accuracy over the whole test set is 89 %
[25,   100] loss: 0.035
[25,   200] loss: 0.106
[25,   300] loss: 0.074
For epoch 25 the test accuracy over the whole test set is 86 %
[26,   100] loss: 0.104
[26,   200] loss: 0.139
[26,   300] loss: 0.033
For epoch 26 the test accuracy over the whole test set is 89 %
[27,   100] loss: 0.014
[27,   200] loss: 0.016
[27,   300] loss: 0.005
For epoch 27 the test accuracy over the whole test set is 91 %
[28,   100] loss: 0.010
[28,   200] loss: 0.002
[28,   300] loss: 0.007
For epoch 28 the test accuracy over the whole test set is 91 %
[29,   100] loss: 0.002
[29,   200] loss: 0.001
[29,   300] loss: 0.003
For epoch 29 the test accuracy over the whole test set is 91 %
[30,   100] loss: 0.001
[30,   200] loss: 0.001
[30,   300] loss: 0.001
For epoch 30 the test accuracy over the whole test set is 91 %
[31,   100] loss: 0.001
[31,   200] loss: 0.001
[31,   300] loss: 0.001
For epoch 31 the test accuracy over the whole test set is 91 %
[32,   100] loss: 0.001
